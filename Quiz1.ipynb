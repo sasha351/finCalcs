{
 "cells": [
  {
   "cell_type": "code",
   "execution_count": null,
   "metadata": {},
   "outputs": [
    {
     "name": "stdout",
     "output_type": "stream",
     "text": [
      "6797\n"
     ]
    }
   ],
   "source": [
    "import math\n",
    "\n",
    "def lumpSum(finalVal, yrs, rate):\n",
    "    rate = rate / 100\n",
    "    return round((finalVal) / ((1+rate)**yrs), 5)\n",
    "\n",
    "# lumpSum(215, 5, 4.70)\n",
    "\n",
    "def calculatePercentOnInvestment(initial_investment, final_value, years):\n",
    "    cagr = (final_value / initial_investment) ** (1 / years) - 1\n",
    "    return round(cagr * 100, 5)\n",
    "\n",
    "# calculatePercentOnInvestment(41, 121, 6)\n",
    "\n",
    "def calculateFutureValue(principal, annual_rate, years, compounding_per_year):\n",
    "    rate_decimal = annual_rate / 100\n",
    "    future_value = principal * (1 + rate_decimal / compounding_per_year) ** (compounding_per_year * years)\n",
    "    return round(future_value, 5)\n",
    "\n",
    "# calculateFutureValue(390, 4.00, 31, 4)\n",
    "\n",
    "def calculateAnnuityPayment(future_value, annual_rate, years, contributions_per_year):\n",
    "    rate_decimal = annual_rate / 100\n",
    "    numerator = rate_decimal / contributions_per_year\n",
    "    denominator = (1 + numerator) ** (contributions_per_year * years) - 1\n",
    "    payment = future_value * (numerator / denominator)\n",
    "    return round(payment)\n",
    "\n",
    "# calculateAnnuityPayment(300000, 3, 6, 12)\n",
    "\n",
    "def calculateCompoundInterest(principal, annual_rate, years, compounding_per_year):\n",
    "    rate_decimal = annual_rate / 100\n",
    "    future_value = principal * (1 + rate_decimal / compounding_per_year) ** (compounding_per_year * years)\n",
    "    return round(future_value, 5)\n",
    "\n",
    "# calculateCompoundInterest(4750, 7, 5, 52)\n",
    "\n",
    "def calculateDelayedAnnuityPv(payment, annual_rate, years, delay):\n",
    "    ## NOT WORKING\n",
    "\n",
    "    rate_decimal = annual_rate / 100\n",
    "    pv_at_delay = payment * (1 - (1 / (1 + rate_decimal) ** years)) / rate_decimal\n",
    "    pv_today = pv_at_delay / (1 + rate_decimal) ** delay\n",
    "    return round(pv_today)\n",
    "\n",
    "print(calculateDelayedAnnuityPv(540, 3.00, 18, 3))\n",
    "\n",
    "def calculateAnnualReturn(initial_investment, final_value, years):\n",
    "    rate = (final_value / initial_investment) ** (1 / years) - 1\n",
    "    return round(rate * 100, 5)\n",
    "\n",
    "# calculateAnnualReturn(100, 400, 3)\n",
    "\n",
    "def calculateTimeToGoal(initial_amount, final_amount, annual_rate):\n",
    "    rate_decimal = annual_rate / 100\n",
    "    time = math.log(final_amount / initial_amount) / math.log(1 + rate_decimal)\n",
    "    return round(time, 5)\n",
    "\n",
    "# calculateTimeToGoal(450, 2250, 6)\n",
    "\n",
    "def calculateAnnuityPayment(lump_sum, immediate_payment, annual_rate, years):\n",
    "    rate_decimal = annual_rate / 100\n",
    "    present_value_lump_sum = lump_sum / (1 + rate_decimal) ** years\n",
    "    annuity_factor = (1 - (1 / (1 + rate_decimal) ** years)) / rate_decimal\n",
    "    annuity_payment = (present_value_lump_sum - immediate_payment) / annuity_factor\n",
    "    return round(annuity_payment, 5)\n",
    "\n",
    "# calculateAnnuityPayment(440, 160, 4, 6)"
   ]
  }
 ],
 "metadata": {
  "kernelspec": {
   "display_name": "Python 3",
   "language": "python",
   "name": "python3"
  },
  "language_info": {
   "codemirror_mode": {
    "name": "ipython",
    "version": 3
   },
   "file_extension": ".py",
   "mimetype": "text/x-python",
   "name": "python",
   "nbconvert_exporter": "python",
   "pygments_lexer": "ipython3",
   "version": "3.13.1"
  }
 },
 "nbformat": 4,
 "nbformat_minor": 2
}
