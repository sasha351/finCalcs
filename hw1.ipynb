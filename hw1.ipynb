{
 "cells": [
  {
   "cell_type": "code",
   "execution_count": 9,
   "metadata": {},
   "outputs": [
    {
     "data": {
      "text/plain": [
       "11.004095833156246"
      ]
     },
     "execution_count": 9,
     "metadata": {},
     "output_type": "execute_result"
    }
   ],
   "source": [
    "import math\n",
    "\n",
    "def simpleIntreset(principle, yrs, rate):\n",
    "    return principle*((1+rate)**yrs)\n",
    "\n",
    "def annualRateReturn(principle, yrs, increaseRate):\n",
    "    futureVal = principle * increaseRate\n",
    "    return ((futureVal / principle)**(1/yrs) - 1) * 100\n",
    "\n",
    "def compoundInterest(principle, yrs, rate, compRate):\n",
    "    return principle*((1+(rate/compRate))**(yrs*compRate))"
   ]
  }
 ],
 "metadata": {
  "kernelspec": {
   "display_name": "Python 3",
   "language": "python",
   "name": "python3"
  },
  "language_info": {
   "codemirror_mode": {
    "name": "ipython",
    "version": 3
   },
   "file_extension": ".py",
   "mimetype": "text/x-python",
   "name": "python",
   "nbconvert_exporter": "python",
   "pygments_lexer": "ipython3",
   "version": "3.11.1"
  }
 },
 "nbformat": 4,
 "nbformat_minor": 2
}
