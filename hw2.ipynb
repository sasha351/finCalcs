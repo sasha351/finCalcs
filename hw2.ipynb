{
 "cells": [
  {
   "cell_type": "code",
   "execution_count": null,
   "metadata": {},
   "outputs": [
    {
     "name": "stdout",
     "output_type": "stream",
     "text": [
      "2790.697674418605\n",
      "2600.5257398719605\n"
     ]
    }
   ],
   "source": [
    "import math\n",
    "\n",
    "def presentValAnnuities(annuit, yrs, rate):\n",
    "    x = 1/rate\n",
    "    y = 1/(rate*((1+rate)**yrs))\n",
    "    return annuit*(x-y)\n",
    "\n",
    "def finalValAnnuities(annuit, yrs, rate):\n",
    "    x = (1+rate)**yrs - 1\n",
    "    return annuit*(x/rate)\n",
    "\n",
    "# def lumpSum(finalVal, yrs, rate):\n",
    "#     return (finalVal) / ((1+rate)**yrs)\n",
    "\n",
    "# print(lumpSum(3000,1,0.075))\n",
    "print(presentValAnnuities(1000,3,0.075))"
   ]
  }
 ],
 "metadata": {
  "kernelspec": {
   "display_name": "Python 3",
   "language": "python",
   "name": "python3"
  },
  "language_info": {
   "codemirror_mode": {
    "name": "ipython",
    "version": 3
   },
   "file_extension": ".py",
   "mimetype": "text/x-python",
   "name": "python",
   "nbconvert_exporter": "python",
   "pygments_lexer": "ipython3",
   "version": "3.11.1"
  }
 },
 "nbformat": 4,
 "nbformat_minor": 2
}
