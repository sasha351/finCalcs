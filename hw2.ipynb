{
 "cells": [
  {
   "cell_type": "code",
   "execution_count": null,
   "metadata": {},
   "outputs": [
    {
     "data": {
      "text/plain": [
       "1135.1990082265022"
      ]
     },
     "execution_count": 5,
     "metadata": {},
     "output_type": "execute_result"
    }
   ],
   "source": [
    "import math\n",
    "\n",
    "def presentValAnnuities(annuit, yrs, rate):\n",
    "    x = 1/rate\n",
    "    y = 1/(rate*((1+rate)**yrs))\n",
    "    return annuit*(x-y)\n",
    "\n",
    "def finalValAnnuities(annuit, yrs, rate):\n",
    "    x = (1+rate)**yrs - 1\n",
    "    return annuit*(x/rate)\n",
    "\n",
    "def lumpSum(finalVal, yrs, rate):\n",
    "    return (finalVal) / ((1+rate)**yrs)\n",
    "\n",
    "def missedAnnuityYear(annuit, yrs, rate, missYr):\n",
    "    pv_factor = (1 - (1 + rate) ** -yrs) / rate * (1 + rate)\n",
    "    pv_annuity_due = annuit * pv_factor\n",
    "\n",
    "    pv_missing_payment = annuit / ((1 + rate) ** (missYr - 1))\n",
    "\n",
    "    adjusted_pv = pv_annuity_due - pv_missing_payment\n",
    "    return adjusted_pv\n",
    "\n",
    "def delayedAnnuity(annuit, yrs, rate, startYr):\n",
    "    pV = presentValAnnuities(annuit, 1, rate)\n",
    "    print(pV)\n",
    "    "
   ]
  }
 ],
 "metadata": {
  "kernelspec": {
   "display_name": "Python 3",
   "language": "python",
   "name": "python3"
  },
  "language_info": {
   "codemirror_mode": {
    "name": "ipython",
    "version": 3
   },
   "file_extension": ".py",
   "mimetype": "text/x-python",
   "name": "python",
   "nbconvert_exporter": "python",
   "pygments_lexer": "ipython3",
   "version": "3.12.9"
  }
 },
 "nbformat": 4,
 "nbformat_minor": 2
}
